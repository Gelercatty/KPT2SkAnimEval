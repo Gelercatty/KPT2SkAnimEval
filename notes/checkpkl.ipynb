{
 "cells": [
  {
   "cell_type": "code",
   "execution_count": 4,
   "id": "80b6171d",
   "metadata": {},
   "outputs": [],
   "source": [
    "import pickle\n",
    "import joblib"
   ]
  },
  {
   "cell_type": "markdown",
   "id": "f9095848",
   "metadata": {},
   "source": [
    "hyberik results Shape"
   ]
  },
  {
   "cell_type": "code",
   "execution_count": 10,
   "id": "b1bca48c",
   "metadata": {},
   "outputs": [
    {
     "name": "stdout",
     "output_type": "stream",
     "text": [
      "dict_keys(['smpl_pose', 'smpl_trans', 'smpl_scaling'])\n",
      "smpl_pose (116, 72)\n",
      "smpl_trans (3,)\n",
      "smpl_scaling (1,)\n"
     ]
    }
   ],
   "source": [
    "file = r\"C:\\Users\\PC\\Desktop\\workingSpace\\KPT2SkAnimEval\\dataset\\out\\hyberik_bates\\SMPLPoss_000000.pkl\"\n",
    "\n",
    "data = joblib.load(file)\n",
    "print(data.keys())\n",
    "\n",
    "for key in data.keys():\n",
    "    print(key, data[key].shape)"
   ]
  },
  {
   "cell_type": "markdown",
   "id": "31b52a4f",
   "metadata": {},
   "source": [
    "smplify3d results Shape"
   ]
  },
  {
   "cell_type": "code",
   "execution_count": 11,
   "id": "f1d6a84b",
   "metadata": {},
   "outputs": [
    {
     "name": "stdout",
     "output_type": "stream",
     "text": [
      "dict_keys(['smpl_pose', 'smpl_trans', 'smpl_scaling'])\n",
      "smpl_pose (116, 72)\n",
      "smpl_trans (116, 3)\n",
      "smpl_scaling (1,)\n"
     ]
    }
   ],
   "source": [
    "file = r\"C:\\Users\\PC\\Desktop\\workingSpace\\KPT2SkAnimEval\\dataset\\out\\smplify3d_bates\\results_smplfitting_bates\\SMPLFit_000000\\SMPLPose_000000.pkl\"\n",
    "\n",
    "data = joblib.load(file)\n",
    "print(data.keys())\n",
    "\n",
    "for key in data.keys():\n",
    "    print(key, data[key].shape)"
   ]
  },
  {
   "cell_type": "markdown",
   "id": "bc017a4c",
   "metadata": {},
   "source": [
    "Chek 52 points"
   ]
  },
  {
   "cell_type": "code",
   "execution_count": 12,
   "id": "077cddc6",
   "metadata": {},
   "outputs": [],
   "source": [
    "import numpy as np"
   ]
  },
  {
   "cell_type": "code",
   "execution_count": 13,
   "id": "d33418a4",
   "metadata": {},
   "outputs": [
    {
     "name": "stdout",
     "output_type": "stream",
     "text": [
      "(210, 52, 3)\n"
     ]
    }
   ],
   "source": [
    "file = r'C:\\Users\\PC\\Desktop\\workingSpace\\KPT2SkAnimEval\\dataset\\52point\\S01C01B01.json.npy'\n",
    "data52point = np.load(file)\n",
    "print(data52point.shape) "
   ]
  },
  {
   "cell_type": "code",
   "execution_count": 14,
   "id": "a4caee3f",
   "metadata": {},
   "outputs": [
    {
     "name": "stdout",
     "output_type": "stream",
     "text": [
      "[[ 0.07986649  0.31661316  2.20533618]\n",
      " [ 0.17258409  0.31147989  2.1911897 ]\n",
      " [-0.00374105  0.32124207  2.21809253]\n",
      " [ 0.08372049  0.40808133  2.19740491]\n",
      " [ 0.16627789 -0.09767306  2.1398877 ]\n",
      " [ 0.02731783 -0.08558744  2.27498779]\n",
      " [ 0.08757448  0.4995495   2.18947363]\n",
      " [ 0.17194148 -0.44587723  2.32444604]\n",
      " [ 0.06642262 -0.46989676  2.37195386]\n",
      " [ 0.08928559  0.68426682  2.17762708]\n",
      " [ 0.16820432 -0.5902934   2.19648462]\n",
      " [ 0.04021635 -0.56751935  2.22597437]\n",
      " [ 0.09099671  0.86898413  2.16578052]\n",
      " [ 0.17493134  0.73610182  2.15017438]\n",
      " [ 0.00976157  0.73500496  2.1779339 ]\n",
      " [ 0.08747491  0.95146509  2.1494812 ]\n",
      " [ 0.26057709  0.78793683  2.12272168]\n",
      " [-0.06976246  0.7857431   2.17824072]\n",
      " [ 0.30928424  0.50772983  2.13500391]\n",
      " [-0.12256999  0.5160589   2.27106494]\n",
      " [ 0.2921214   0.27334946  2.0918938 ]\n",
      " [-0.12776688  0.28087949  2.2144502 ]\n",
      " [ 0.          0.          0.        ]\n",
      " [ 0.          0.          0.        ]\n",
      " [ 0.          0.          0.        ]\n",
      " [ 0.          0.          0.        ]\n",
      " [ 0.          0.          0.        ]\n",
      " [ 0.          0.          0.        ]\n",
      " [ 0.          0.          0.        ]\n",
      " [ 0.          0.          0.        ]\n",
      " [ 0.          0.          0.        ]\n",
      " [ 0.          0.          0.        ]\n",
      " [ 0.          0.          0.        ]\n",
      " [ 0.          0.          0.        ]\n",
      " [ 0.          0.          0.        ]\n",
      " [ 0.          0.          0.        ]\n",
      " [ 0.          0.          0.        ]\n",
      " [ 0.          0.          0.        ]\n",
      " [ 0.          0.          0.        ]\n",
      " [ 0.          0.          0.        ]\n",
      " [ 0.          0.          0.        ]\n",
      " [ 0.          0.          0.        ]\n",
      " [ 0.          0.          0.        ]\n",
      " [ 0.          0.          0.        ]\n",
      " [ 0.          0.          0.        ]\n",
      " [ 0.          0.          0.        ]\n",
      " [ 0.          0.          0.        ]\n",
      " [ 0.          0.          0.        ]\n",
      " [ 0.          0.          0.        ]\n",
      " [ 0.          0.          0.        ]\n",
      " [ 0.          0.          0.        ]\n",
      " [ 0.          0.          0.        ]]\n"
     ]
    }
   ],
   "source": [
    "print(data52point[0])"
   ]
  },
  {
   "cell_type": "code",
   "execution_count": null,
   "id": "7a26f0fb",
   "metadata": {},
   "outputs": [],
   "source": []
  }
 ],
 "metadata": {
  "kernelspec": {
   "display_name": "KPT2SkAnimEval",
   "language": "python",
   "name": "python3"
  },
  "language_info": {
   "codemirror_mode": {
    "name": "ipython",
    "version": 3
   },
   "file_extension": ".py",
   "mimetype": "text/x-python",
   "name": "python",
   "nbconvert_exporter": "python",
   "pygments_lexer": "ipython3",
   "version": "3.11.14"
  }
 },
 "nbformat": 4,
 "nbformat_minor": 5
}
