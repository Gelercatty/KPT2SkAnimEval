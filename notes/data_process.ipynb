{
 "cells": [
  {
   "cell_type": "code",
   "execution_count": 5,
   "id": "b6862ed8",
   "metadata": {},
   "outputs": [],
   "source": [
    "import torch \n",
    "import numpy as np\n",
    "import os"
   ]
  },
  {
   "cell_type": "code",
   "execution_count": 9,
   "id": "08ee34d9",
   "metadata": {},
   "outputs": [],
   "source": [
    "data_root = r\"C:\\Users\\PC\\Desktop\\workingSpace\\KPT2SkAnimEval\\dataset\\DFaust\\DFaust_67\"\n",
    "file_list = os.listdir(data_root)\n",
    "jumping_jacks_poses = r'C:\\Users\\PC\\Desktop\\workingSpace\\KPT2SkAnimEval\\dataset\\DFaust\\DFaust_67\\50002\\50002_chicken_wings_poses.npz'\n"
   ]
  },
  {
   "cell_type": "code",
   "execution_count": 15,
   "id": "c5bbd3dd",
   "metadata": {},
   "outputs": [
    {
     "name": "stdout",
     "output_type": "stream",
     "text": [
      "['poses', 'gender', 'mocap_framerate', 'betas', 'marker_data', 'dmpls', 'marker_labels', 'trans']\n"
     ]
    }
   ],
   "source": [
    "jumping_jacks_poses_data = np.load(jumping_jacks_poses)\n",
    "print(jumping_jacks_poses_data.files)"
   ]
  },
  {
   "cell_type": "code",
   "execution_count": 18,
   "id": "47128e17",
   "metadata": {},
   "outputs": [
    {
     "name": "stdout",
     "output_type": "stream",
     "text": [
      "poses: (216, 156)\n",
      "gender: ()\n",
      "mocap_framerate: ()\n",
      "betas: (16,)\n",
      "marker_data: (216, 61, 3)\n",
      "dmpls: (216, 8)\n",
      "marker_labels: (61,)\n",
      "trans: (216, 3)\n"
     ]
    }
   ],
   "source": [
    "for file in jumping_jacks_poses_data.files:\n",
    "    print(f\"{file}: {jumping_jacks_poses_data[file].shape}\")\n"
   ]
  },
  {
   "cell_type": "code",
   "execution_count": 22,
   "id": "15bfcc2b",
   "metadata": {},
   "outputs": [
    {
     "name": "stdout",
     "output_type": "stream",
     "text": [
      "(116, 22, 3)\n"
     ]
    }
   ],
   "source": [
    "data_humanml3d_root = r'C:\\Users\\PC\\Desktop\\workingSpace\\KPT2SkAnimEval\\dataset\\humanML3D'\n",
    "data_humanml3d_file_list = os.listdir(data_humanml3d_root)\n",
    "\n",
    "check_file = os.path.join(data_humanml3d_root, data_humanml3d_file_list[0])\n",
    "check_data = np.load(check_file, allow_pickle=True)\n",
    "print(check_data.shape)"
   ]
  },
  {
   "cell_type": "code",
   "execution_count": null,
   "id": "f8c838b4",
   "metadata": {},
   "outputs": [],
   "source": []
  }
 ],
 "metadata": {
  "kernelspec": {
   "display_name": "KPT2SkAnimEval",
   "language": "python",
   "name": "python3"
  },
  "language_info": {
   "codemirror_mode": {
    "name": "ipython",
    "version": 3
   },
   "file_extension": ".py",
   "mimetype": "text/x-python",
   "name": "python",
   "nbconvert_exporter": "python",
   "pygments_lexer": "ipython3",
   "version": "3.13.5"
  }
 },
 "nbformat": 4,
 "nbformat_minor": 5
}
